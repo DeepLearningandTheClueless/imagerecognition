{
 "cells": [
  {
   "cell_type": "markdown",
   "metadata": {},
   "source": [
    "# DATA20001 Deep Learning - Group Project\n",
    "## Image project\n",
    "\n",
    "**Due Thursday, December 13, before 23:59.**\n",
    "\n",
    "The task is to learn to assign the correct labels to a set of images.  The images are originally from a photo-sharing site and released under Creative Commons-licenses allowing sharing.  The training set contains 20 000 images. We have resized them and cropped them to 128x128 to make the task a bit more manageable.\n",
    "\n",
    "We're only giving you the code for downloading the data. The rest you'll have to do yourselves.\n",
    "\n",
    "Some comments and hints particular to the image project:\n",
    "\n",
    "- One image may belong to many classes in this problem, i.e., it's a multi-label classification problem. In fact there are images that don't belong to any of our classes, and you should also be able to handle these correctly. Pay careful attention to how you design the outputs of the network (e.g., what activation to use) and what loss function should be used.\n",
    "\n",
    "- As the dataset is pretty imbalanced, don't focus too strictly on the outputs being probabilistic. (Meaning that the right threshold for selecting the label might not be 0.5.)\n",
    "\n",
    "- Image files can be loaded as numpy matrices for example using `imread` from `matplotlib.pyplot`. Most images are color, but a few grayscale. You need to handle the grayscale ones somehow as they would have a different number of color channels (depth) than the color ones.\n",
    "\n",
    "- In the exercises we used e.g., `torchvision.datasets.MNIST` to handle the loading of the data in suitable batches. Here, you need to handle the dataloading yourself.  The easiest way is probably to create a custom `Dataset`. [See for example here for a tutorial](https://github.com/utkuozbulak/pytorch-custom-dataset-examples)."
   ]
  },
  {
   "cell_type": "markdown",
   "metadata": {},
   "source": [
    "## Download the data"
   ]
  },
  {
   "cell_type": "code",
   "execution_count": 1,
   "metadata": {},
   "outputs": [],
   "source": [
    "import os\n",
    "import torch\n",
    "import torchvision\n",
    "from torchvision.datasets.utils import download_url\n",
    "import zipfile"
   ]
  },
  {
   "cell_type": "code",
   "execution_count": 2,
   "metadata": {},
   "outputs": [],
   "source": [
    "train_path = 'train'\n",
    "dl_file = 'dl2018-image-proj.zip'\n",
    "dl_url = 'https://users.aalto.fi/mvsjober/misc/'\n",
    "\n",
    "zip_path = os.path.join(train_path, dl_file)\n",
    "if not os.path.isfile(zip_path):\n",
    "    download_url(dl_url + dl_file, root=train_path, filename=dl_file, md5=None)\n",
    "    with zipfile.ZipFile(zip_path) as zip_f:\n",
    "        zip_f.extractall(train_path)\n",
    "        #os.unlink(zip_path)"
   ]
  },
  {
   "cell_type": "markdown",
   "metadata": {},
   "source": [
    "The above command downloaded and extracted the data files into the `train` subdirectory.\n",
    "\n",
    "The images can be found in `train/images`, and are named as `im1.jpg`, `im2.jpg` and so on until `im20000.jpg`.\n",
    "\n",
    "The class labels, or annotations, can be found in `train/annotations` as `CLASSNAME.txt`, where CLASSNAME is one of the fourteen classes: *baby, bird, car, clouds, dog, female, flower, male, night, people, portrait, river, sea,* and *tree*.\n",
    "\n",
    "Each annotation file is a simple text file that lists the images that depict that class, one per line. The images are listed with their number, not the full filename. For example `5969` refers to the image `im5969.jpg`."
   ]
  },
  {
   "cell_type": "markdown",
   "metadata": {},
   "source": [
    "## Your stuff goes here ..."
   ]
  },
  {
   "cell_type": "markdown",
   "metadata": {},
   "source": [
    "# Preprocess and preparing Dataloader\n",
    "\n",
    "First we format the labels to usable form. Saved as csv to `./train/labels.csv`"
   ]
  },
  {
   "cell_type": "code",
   "execution_count": 3,
   "metadata": {},
   "outputs": [],
   "source": [
    "import pandas as pd\n",
    "import glob\n",
    "from sklearn.preprocessing import OneHotEncoder\n",
    "import platform"
   ]
  },
  {
   "cell_type": "code",
   "execution_count": 9,
   "metadata": {},
   "outputs": [
    {
     "name": "stdout",
     "output_type": "stream",
     "text": [
      "   img  baby  bird  car  clouds  dog  female  flower  male  night  people  \\\n",
      "0    1     0     0    0       0    0       1       0     0      0       1   \n",
      "1    2     0     0    0       0    0       0       0     0      0       0   \n",
      "2    3     0     0    0       0    0       0       0     0      0       0   \n",
      "3    4     0     0    0       0    0       0       0     1      0       1   \n",
      "4    5     0     0    0       0    0       0       0     1      0       1   \n",
      "\n",
      "   portrait  river  sea  tree  \n",
      "0         1      0    0     0  \n",
      "1         0      0    0     0  \n",
      "2         0      0    0     0  \n",
      "3         0      0    0     0  \n",
      "4         0      0    0     0  \n"
     ]
    }
   ],
   "source": [
    "# Create an array with tuple(img, label) pairs from the annotations txt files.\n",
    "files = glob.glob(\"./train/annotations/*\")\n",
    "labels = []\n",
    "\n",
    "for name in files:\n",
    "    try:\n",
    "        with open(name) as f:\n",
    "            if platform.system() == \"Windows\":\n",
    "                label = name.split(\"\\\\\")[1].split(\".\")[0]\n",
    "            else:\n",
    "                label = name.split(\"/\")[-1].split(\".\")[0]\n",
    "\n",
    "            for line in f:\n",
    "                labels.append((int(line.splitlines()[0]), label))\n",
    "\n",
    "    except IOError as exc:  #Not sure what error this is\n",
    "        if exc.errno != errno.EISDIR:\n",
    "            raise\n",
    "\n",
    "# Create dataframe with columns img, label and sort it by img and reset index without preserving old index values.\n",
    "labels = pd.DataFrame(labels, columns=[\"img\", \"label\"])\n",
    "# One hot encoding\n",
    "one_hot = pd.get_dummies(labels[\"label\"])\n",
    "labels = labels.join(one_hot).drop(\"label\", axis=\"columns\")\n",
    "labels = labels.groupby(\"img\", as_index=False).sum()\n",
    "labels[\"img\"] = labels[\"img\"].astype(\"int32\")\n",
    "imgs_present = labels[\"img\"].unique()\n",
    "rows_to_add = []\n",
    "for i in range(1, 20001):  # this takes a while sry\n",
    "    if i in imgs_present:\n",
    "        continue\n",
    "    else:\n",
    "        rows_to_add.append([i, 0, 0, 0, 0, 0, 0, 0, 0, 0, 0, 0, 0, 0,\n",
    "                            0])  # kinda ugly lol\n",
    "df_to_append = pd.DataFrame(\n",
    "    rows_to_add,\n",
    "    columns=[\n",
    "        \"img\", \"baby\", \"bird\", \"car\", \"clouds\", \"dog\", \"female\", \"flower\",\n",
    "        \"male\", \"night\", \"people\", \"portrait\", \"river\", \"sea\", \"tree\"\n",
    "    ])\n",
    "\n",
    "labels = labels.append(df_to_append).sort_values(\"img\").reset_index(drop=True)\n",
    "print(labels.head())\n",
    "labels.to_csv(\"./train/labels.csv\", index=False)"
   ]
  },
  {
   "cell_type": "markdown",
   "metadata": {},
   "source": [
    "10176 rows with any labels and 9824 images without a label.\n",
    "\n",
    "## Dataset and Dataloader\n",
    "We create our Dataset to be used through Dataloader to train and evaluate our model"
   ]
  },
  {
   "cell_type": "code",
   "execution_count": 85,
   "metadata": {},
   "outputs": [],
   "source": [
    "from torch.utils.data.dataset import Dataset\n",
    "from torch.utils.data import DataLoader\n",
    "from torchvision import transforms\n",
    "import imageio\n",
    "import multiprocessing\n",
    "import numpy as np\n",
    "import torch\n",
    "import PIL\n",
    "\n",
    "class Images(Dataset):\n",
    "    def __init__(self):\n",
    "        \"\"\"\n",
    "        Initialize dataset.\n",
    "        Here we can define transformations for the dataset aswell.\n",
    "        \"\"\"\n",
    "        self.labels = pd.read_csv(\"./train/labels.csv\")\n",
    "        self.normalize = transforms.Normalize((0, 0, 0), (1, 1, 1))\n",
    "        self.to_tensor = transforms.ToTensor()\n",
    "\n",
    "        self.transformations = transforms.Compose([\n",
    "            transforms.ToPILImage(mode=\"RGB\"), # transform numpy array to PIL image\n",
    "            \n",
    "            # Randomly changes color attributes by sampling from ranges of given values\n",
    "            transforms.ColorJitter(brightness=0.66, contrast=0.9, saturation=0.85, hue=0.1),\n",
    "            \n",
    "             # random crop resized to original size\n",
    "            transforms.RandomResizedCrop(128, scale=(0.33, 1.0), ratio=(0.75, 1.3333333333333333)), \n",
    "            \n",
    "            transforms.RandomHorizontalFlip(p=0.5), # p chance to just flip it in horizontal axis\n",
    "            transforms.RandomVerticalFlip(p=0.1), # Same but vertical\n",
    "            transforms.RandomGrayscale(p=0.1), # 0.1 chance to grayscale image. 3 channel where r == g == b\n",
    "            transforms.RandomRotation(degrees=40), # rotating from [-40, 40] degrees by random\n",
    "            self.to_tensor, # changes PIL image to tensor\n",
    "            self.normalize # normalize to have a neat start\n",
    "        ])\n",
    "\n",
    "    def __getitem__(self, index):\n",
    "        index = index.item() + 1  #indexing starts from 1 in our dataset\n",
    "        try:\n",
    "            img = np.array(\n",
    "                imageio.imread(\n",
    "                    './train/images/im' + str(index) + '.jpg', pilmode=\"RGB\"))\n",
    "        except:\n",
    "            raise\n",
    "\n",
    "        img = self.transformations(img)\n",
    "        # e.g. data = self.center_crop(data)\n",
    "        label = self.labels[self.labels[\"img\"] == index].drop(\n",
    "            \"img\", axis=\"columns\")\n",
    "        label = torch.from_numpy(np.array(label))\n",
    "        return (img, label.squeeze())\n",
    "\n",
    "    def __len__(self):\n",
    "        return len(self.labels)\n",
    "\n",
    "\n",
    "batch_size = 32\n",
    "imgs = Images()\n",
    "\n",
    "# Create 0.8, 0.1, 0.1 splits for training, validation, testing\n",
    "train_size = int(0.8 * len(imgs))\n",
    "validation_size = (len(imgs) - train_size) // 2\n",
    "test_size = len(imgs) - train_size - validation_size\n",
    "\n",
    "# The validation-test split makes no sense at the moment, because the test data is random.\n",
    "# It should not be random but constant so that we can compare different models against it.\n",
    "# How to achieve this without having trees only in the test data?\n",
    "train_dataset, validation_dataset, test_dataset = torch.utils.data.random_split(\n",
    "    imgs, [train_size, validation_size, test_size])\n",
    "\n",
    "train_loader = DataLoader(\n",
    "    dataset=train_dataset, batch_size=batch_size, shuffle=True)\n",
    "valid_loader = DataLoader(\n",
    "    dataset=validation_dataset, batch_size=batch_size, shuffle=False)\n",
    "test_loader = DataLoader(\n",
    "    dataset=test_dataset, batch_size=batch_size, shuffle=False)"
   ]
  },
  {
   "cell_type": "markdown",
   "metadata": {},
   "source": [
    "#### We can now use our `train_loader` as such:"
   ]
  },
  {
   "cell_type": "code",
   "execution_count": 21,
   "metadata": {},
   "outputs": [
    {
     "name": "stdout",
     "output_type": "stream",
     "text": [
      "batch 0 img torch.Size([32, 3, 128, 128]) label torch.Size([32, 14])\n",
      "batch 1 img torch.Size([32, 3, 128, 128]) label torch.Size([32, 14])\n",
      "batch 2 img torch.Size([32, 3, 128, 128]) label torch.Size([32, 14])\n",
      "batch 3 img torch.Size([32, 3, 128, 128]) label torch.Size([32, 14])\n",
      "batch 4 img torch.Size([32, 3, 128, 128]) label torch.Size([32, 14])\n",
      "and so on...\n"
     ]
    }
   ],
   "source": [
    "%matplotlib inline\n",
    "import matplotlib.pyplot as plt\n",
    "\n",
    "for idx, (X, y) in enumerate(train_loader):\n",
    "    if idx == 5:\n",
    "        print(\"and so on...\")\n",
    "        break\n",
    "    print(\"batch\", idx, \"img\", X.shape, \"label\", y.shape)\n",
    "    # showing an example picture with labels:\n",
    "#     plt.imshow(np.moveaxis(X[1].numpy(), 0, 2))\n",
    "#     plt.show()\n",
    "#     print(y_to_labels(y[1]))"
   ]
  },
  {
   "cell_type": "code",
   "execution_count": 14,
   "metadata": {},
   "outputs": [],
   "source": [
    "def y_to_labels(y):\n",
    "    \"\"\"\n",
    "    a little helper function to get labels from one-hot-encoded vectors\n",
    "    \"\"\"\n",
    "    labels = pd.read_csv(\"./train/labels.csv\").drop([\"img\"],\n",
    "                                                    axis=\"columns\").columns\n",
    "    return list(labels.take(np.where(np.array(y))).ravel())"
   ]
  },
  {
   "cell_type": "markdown",
   "metadata": {},
   "source": [
    "#### lets see few examples from the dataset"
   ]
  },
  {
   "cell_type": "code",
   "execution_count": 87,
   "metadata": {},
   "outputs": [
    {
     "data": {
      "image/png": "[encoded data removed]",
      "text/plain": [
       "<Figure size 432x288 with 9 Axes>"
      ]
     },
     "metadata": {
      "needs_background": "light"
     },
     "output_type": "display_data"
    }
   ],
   "source": [
    "import matplotlib.pyplot as plt\n",
    "f, axarr = plt.subplots(3, 3)\n",
    "f.subplots_adjust(hspace=0.9)\n",
    "\n",
    "for i, ax in enumerate(f.axes):\n",
    "    X, y = imgs.__getitem__(torch.tensor(i + 999))\n",
    "    ax.axis('off')\n",
    "    ax.imshow(np.array(X.permute(1, 2, 0)))\n",
    "    ax.set_title(str(y_to_labels(y)))\n",
    "plt.show()"
   ]
  },
  {
   "cell_type": "code",
   "execution_count": 195,
   "metadata": {},
   "outputs": [
    {
     "name": "stdout",
     "output_type": "stream",
     "text": [
      "Using CPU.\n",
      "Net(\n",
      "  (conv1): Conv2d(3, 10, kernel_size=(3, 3), stride=(1, 1))\n",
      "  (conv2): Conv2d(10, 5, kernel_size=(1, 1), stride=(1, 1))\n",
      "  (conv3): Conv2d(5, 10, kernel_size=(4, 4), stride=(2, 2))\n",
      "  (conv4): Conv2d(10, 3, kernel_size=(1, 1), stride=(1, 1))\n",
      "  (pool1): MaxPool2d(kernel_size=2, stride=1, padding=0, dilation=1, ceil_mode=False)\n",
      "  (pool2): MaxPool2d(kernel_size=3, stride=1, padding=0, dilation=1, ceil_mode=False)\n",
      "  (fc1): Linear(in_features=10443, out_features=512, bias=True)\n",
      "  (out): Linear(in_features=512, out_features=14, bias=True)\n",
      ")\n"
     ]
    }
   ],
   "source": [
    "import torch.nn as nn\n",
    "import torch.nn.functional as F\n",
    "\n",
    "if torch.cuda.is_available():\n",
    "    print('Using gpu.')\n",
    "    device = torch.device('cuda')\n",
    "else:\n",
    "    print('Using CPU.')\n",
    "    device = torch.device('cpu')\n",
    "\n",
    "\n",
    "class Net(nn.Module):\n",
    "    def __init__(self, output_size=14, batch_size=32):\n",
    "        super(Net, self).__init__()\n",
    "        self.output_size = output_size\n",
    "        self.batch_size = batch_size\n",
    "        self.conv1 = nn.Conv2d(in_channels=3, out_channels=10, kernel_size=3)\n",
    "        self.conv2 = nn.Conv2d(in_channels=10, out_channels=5, kernel_size=1)\n",
    "        self.conv3 = nn.Conv2d(\n",
    "            in_channels=5, out_channels=10, kernel_size=4, stride=2)\n",
    "        self.conv4 = nn.Conv2d(in_channels=10, out_channels=3, kernel_size=1)\n",
    "\n",
    "        self.pool1 = nn.MaxPool2d(kernel_size=2, stride=1)\n",
    "        self.pool2 = nn.MaxPool2d(kernel_size=3, stride=1)\n",
    "        self.fc1 = nn.Linear(3 * 59 * 59, 512)\n",
    "        self.out = nn.Linear(512, output_size)\n",
    "\n",
    "    def forward(self, x):\n",
    "        # Convolutional layer expects the input to be of shape (batch_size, channel_dim, x_dim, y_dim)\n",
    "        conv1 = F.relu(self.conv1(x))\n",
    "        pooled = self.pool1(conv1)\n",
    "\n",
    "        conv2 = F.relu(self.conv2(pooled))\n",
    "        conv3 = F.relu(self.conv3(conv2))\n",
    "\n",
    "        pooled2 = self.pool2(conv3)\n",
    "\n",
    "        conv4 = F.relu(self.conv4(pooled2))\n",
    "\n",
    "        flatten = conv4.view(-1, 3 * 59 * 59)\n",
    "        h = F.relu(self.fc1(flatten))\n",
    "        output = self.out(h)\n",
    "        return output\n",
    "\n",
    "\n",
    "model = Net(batch_size=batch_size).to(device)\n",
    "optimizer = torch.optim.Adam(model.parameters(), lr=0.001)\n",
    "# I think Binary Cross Entropy is OK for multilabel. LogitsLoss is just added sigmoid with log-sum-exp trick\n",
    "criterion = nn.BCEWithLogitsLoss().to(device)\n",
    "\n",
    "print(model)"
   ]
  },
  {
   "cell_type": "code",
   "execution_count": 196,
   "metadata": {},
   "outputs": [],
   "source": [
    "def train(model, loader, optimizer, criterion):\n",
    "\n",
    "    epoch_loss = 0\n",
    "\n",
    "    model.train()\n",
    "\n",
    "    for idx, (X, y) in enumerate(loader):\n",
    "        X = X.to(device)\n",
    "        y = y.to(device)\n",
    "        if idx % 100 == 0:\n",
    "            print(f\"batch {idx} out of {len(loader)}\")\n",
    "\n",
    "        optimizer.zero_grad()\n",
    "\n",
    "        predictions = model(X)\n",
    "\n",
    "        loss = criterion(predictions, y.float())\n",
    "\n",
    "        loss.backward()\n",
    "\n",
    "        optimizer.step()\n",
    "\n",
    "        epoch_loss += loss.data.item()\n",
    "\n",
    "    return epoch_loss / len(loader)"
   ]
  },
  {
   "cell_type": "code",
   "execution_count": 197,
   "metadata": {},
   "outputs": [],
   "source": [
    "from sklearn.metrics import f1_score\n",
    "\n",
    "\n",
    "def evaluate(model, loader, criterion):\n",
    "\n",
    "    epoch_loss = 0\n",
    "    epoch_f1 = 0\n",
    "\n",
    "    model.eval()  # disables normalizations like dropout, batchnorm etc..\n",
    "\n",
    "    with torch.no_grad():  # disables autograd engine\n",
    "\n",
    "        for idx, (X, y) in enumerate(loader):\n",
    "            X = X.to(device)\n",
    "            y = y.to(device)\n",
    "            predictions = model(X)\n",
    "\n",
    "            loss = criterion(predictions, y.float())\n",
    "            # just round for label true/false\n",
    "            rounded_preds = torch.round(\n",
    "                torch.sigmoid(predictions)\n",
    "            )  # also sigmoid because its not used without loss function\n",
    "\n",
    "            # micro-averaged f1 is used for determining the best model.\n",
    "            f1 = f1_score(rounded_preds, y, average='micro')\n",
    "\n",
    "            epoch_loss += loss.data.item()\n",
    "            epoch_f1 += f1.item()\n",
    "\n",
    "    return epoch_loss / len(loader), epoch_f1 / len(loader)"
   ]
  },
  {
   "cell_type": "code",
   "execution_count": 198,
   "metadata": {},
   "outputs": [
    {
     "name": "stdout",
     "output_type": "stream",
     "text": [
      "started training epoch 1..\n",
      "batch 0 out of 500\n",
      "batch 100 out of 500\n",
      "batch 200 out of 500\n",
      "batch 300 out of 500\n",
      "batch 400 out of 500\n",
      "started validating epoch 1..\n"
     ]
    },
    {
     "name": "stderr",
     "output_type": "stream",
     "text": [
      "/home/ception/.conda/envs/deeplearning/lib/python3.7/site-packages/sklearn/metrics/classification.py:1145: UndefinedMetricWarning: F-score is ill-defined and being set to 0.0 due to no true samples.\n",
      "  'recall', 'true', average, warn_for)\n"
     ]
    },
    {
     "name": "stdout",
     "output_type": "stream",
     "text": [
      "Training epoch 1,  loss: 0.21307072055339812\n",
      "Validation epoch 1: loss: 0.2088924821407076, F1 score: 0.0\n",
      "Training losses: [0.21307072055339812]\n",
      "Validation losses: [0.2088924821407076]\n"
     ]
    }
   ],
   "source": [
    "N_EPOCHS = 1\n",
    "training_losses = []\n",
    "validation_losses = []\n",
    "\n",
    "for epoch in range(N_EPOCHS):\n",
    "    print(f\"started training epoch {epoch + 1}..\")\n",
    "    train_loss = train(model, train_loader, optimizer, criterion)\n",
    "    print(f\"started validating epoch {epoch + 1}..\")\n",
    "    valid_loss, valid_f1 = evaluate(model, valid_loader, criterion)\n",
    "    print(f'Training epoch {epoch +1},  loss: {train_loss}')\n",
    "    print(\n",
    "        f'Validation epoch {epoch +1}: loss: {valid_loss}, F1 score: {valid_f1}'\n",
    "    )\n",
    "    # Store all the losses per epoch for making a plot later on\n",
    "    training_losses = training_losses + [train_loss]\n",
    "    validation_losses = validation_losses + [valid_loss]\n",
    "\n",
    "print(\"Training losses:\", training_losses)\n",
    "print(\"Validation losses:\", validation_losses)"
   ]
  },
  {
   "cell_type": "markdown",
   "metadata": {},
   "source": [
    "**NOTE:** I've noticed the ill-defined F-score, which is the case if there are no true positive predictions (which leads to F1 trying to divide by zero). It's not an issue for us because in the 32 sized batches it might happen that no true positive appears among all the predictions and we don't get an F1 score, but in the final test data set there are 5000 pictures, one of them will eventually be a true positive so there F1 should work."
   ]
  },
  {
   "cell_type": "markdown",
   "metadata": {},
   "source": [
    "## Save your model\n",
    "\n",
    "It might be useful to save your model if you want to continue your work later, or use it for inference later."
   ]
  },
  {
   "cell_type": "code",
   "execution_count": 11,
   "metadata": {},
   "outputs": [],
   "source": [
    "torch.save(model.state_dict(), 'model.pkl')"
   ]
  },
  {
   "cell_type": "markdown",
   "metadata": {},
   "source": [
    "The model file should now be visible in the \"Home\" screen of the jupyter notebooks interface.  There you should be able to select it and press \"download\".  [See more here on how to load the model back](https://github.com/pytorch/pytorch/blob/761d6799beb3afa03657a71776412a2171ee7533/docs/source/notes/serialization.rst) if you want to continue training later."
   ]
  },
  {
   "cell_type": "markdown",
   "metadata": {},
   "source": [
    "## Download test set\n",
    "\n",
    "The testset will be made available during the last week before the deadline and can be downloaded in the same way as the training set."
   ]
  },
  {
   "cell_type": "markdown",
   "metadata": {},
   "source": [
    "## Predict for test set\n",
    "\n",
    "You should return your predictions for the test set in a plain text file.  The text file contains one row for each test set image.  Each row contains a binary prediction for each label (separated by a single space), 1 if it's present in the image, and 0 if not. The order of the labels is as follows (alphabetic order of the label names):\n",
    "\n",
    "    baby bird car clouds dog female flower male night people portrait river sea tree\n",
    "\n",
    "An example row could like like this if your system predicts the presense of a bird and clouds:\n",
    "\n",
    "    0 1 0 1 0 0 0 0 0 0 0 0 0 0\n",
    "    \n",
    "The order of the rows should be according to the numeric order of the image numbers.  In the test set, this means that the first row refers to image `im20001.jpg`, the second to `im20002.jpg`, and so on."
   ]
  },
  {
   "cell_type": "markdown",
   "metadata": {},
   "source": [
    "If you have the prediction output matrix prepared in `y` you can use the following function to save it to a text file."
   ]
  },
  {
   "cell_type": "code",
   "execution_count": 199,
   "metadata": {},
   "outputs": [],
   "source": [
    "test_path = 'test'\n",
    "dl_file = 'dl2018-image-test.zip'\n",
    "\n",
    "zip_path = os.path.join(test_path, dl_file)\n",
    "if not os.path.isfile(zip_path):\n",
    "    download_url(dl_url + dl_file, root=test_path, filename=dl_file, md5=None)\n",
    "\n",
    "    with zipfile.ZipFile(zip_path) as zip_f:\n",
    "        zip_f.extractall(test_path)\n",
    "        #os.unlink(zip_path)"
   ]
  },
  {
   "cell_type": "code",
   "execution_count": 255,
   "metadata": {},
   "outputs": [],
   "source": [
    "class Test_Images(Dataset):\n",
    "    def __init__(self):\n",
    "        \"\"\"\n",
    "        Initialize dataset.\n",
    "        \"\"\"\n",
    "        self.to_tensor = transforms.ToTensor()\n",
    "        self.num_pics = 5000\n",
    "\n",
    "    def __getitem__(self, index):\n",
    "        index = index + 20001  #indexing starts from 20001 in our dataset\n",
    "        try:\n",
    "            img = np.array(\n",
    "                imageio.imread(\n",
    "                    './test/images/im' + str(index) + '.jpg', pilmode=\"RGB\"))\n",
    "        except:\n",
    "            raise\n",
    "\n",
    "        img = self.to_tensor(img)\n",
    "\n",
    "        return (img)\n",
    "\n",
    "    def __len__(self):\n",
    "        return self.num_pics\n",
    "\n",
    "\n",
    "test_imgs = Test_Images()"
   ]
  },
  {
   "cell_type": "code",
   "execution_count": 256,
   "metadata": {},
   "outputs": [],
   "source": [
    "test_loader = DataLoader(\n",
    "    dataset=test_imgs, batch_size=batch_size, shuffle=False)"
   ]
  },
  {
   "cell_type": "code",
   "execution_count": 257,
   "metadata": {},
   "outputs": [
    {
     "data": {
      "image/png": "[encoded data removed]",
      "text/plain": [
       "<Figure size 432x288 with 9 Axes>"
      ]
     },
     "metadata": {
      "needs_background": "light"
     },
     "output_type": "display_data"
    }
   ],
   "source": [
    "f, axarr = plt.subplots(3, 3)\n",
    "f.subplots_adjust(hspace=0.9)\n",
    "\n",
    "for i, ax in enumerate(f.axes):\n",
    "    X = test_imgs.__getitem__(i + 999)\n",
    "    ax.axis('off')\n",
    "    ax.imshow(np.array(X.permute(1, 2, 0)))\n",
    "    ax.set_title(str(y_to_labels(y)))\n",
    "plt.show()"
   ]
  },
  {
   "cell_type": "code",
   "execution_count": 258,
   "metadata": {},
   "outputs": [],
   "source": [
    "def test(model, loader):\n",
    "    preds = []\n",
    "\n",
    "    model.eval()  # disables normalizations like dropout, batchnorm etc..\n",
    "\n",
    "    with torch.no_grad():  # disables autograd engine\n",
    "\n",
    "        for idx, X in enumerate(loader):\n",
    "            X = X.to(device)\n",
    "            predictions = model(X)\n",
    "\n",
    "            preds = preds + [torch.round(torch.sigmoid(predictions)).numpy()]\n",
    "            # also sigmoid because its not used without loss function\n",
    "\n",
    "    return np.concatenate(preds, axis=0)\n",
    "\n",
    "\n",
    "results = test(model, test_loader)"
   ]
  },
  {
   "cell_type": "code",
   "execution_count": 259,
   "metadata": {},
   "outputs": [
    {
     "data": {
      "text/plain": [
       "(5000, 14)"
      ]
     },
     "execution_count": 259,
     "metadata": {},
     "output_type": "execute_result"
    }
   ],
   "source": [
    "# results is a numpy array for now:\n",
    "results.shape"
   ]
  },
  {
   "cell_type": "code",
   "execution_count": 12,
   "metadata": {},
   "outputs": [],
   "source": [
    "np.savetxt('results.txt', y, fmt='%d')"
   ]
  }
 ],
 "metadata": {
  "kernelspec": {
   "display_name": "Python 3",
   "language": "python",
   "name": "python3"
  },
  "language_info": {
   "codemirror_mode": {
    "name": "ipython",
    "version": 3
   },
   "file_extension": ".py",
   "mimetype": "text/x-python",
   "name": "python",
   "nbconvert_exporter": "python",
   "pygments_lexer": "ipython3",
   "version": "3.7.0"
  }
 },
 "nbformat": 4,
 "nbformat_minor": 2
}
